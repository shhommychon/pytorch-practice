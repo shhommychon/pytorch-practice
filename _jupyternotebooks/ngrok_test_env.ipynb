{
  "nbformat": 4,
  "nbformat_minor": 0,
  "metadata": {
    "colab": {
      "name": "ngrok.ipynb",
      "private_outputs": true,
      "provenance": [],
      "collapsed_sections": []
    },
    "kernelspec": {
      "name": "python3",
      "display_name": "Python 3"
    },
    "language_info": {
      "name": "python"
    }
  },
  "cells": [
    {
      "cell_type": "markdown",
      "source": [
        "[![Open In Colab](https://colab.research.google.com/assets/colab-badge.svg)](https://colab.research.google.com/github/shhommychon/pytorch-practice/blob/master/_jupyternotebooks/ngrok_test_env.ipynb)"
      ],
      "metadata": {
        "id": "2w3tE03CJs5i"
      }
    },
    {
      "cell_type": "markdown",
      "source": [
        "# [ngrok](https://ngrok.com/) 세팅"
      ],
      "metadata": {
        "id": "lgY22ccAxI6K"
      }
    },
    {
      "cell_type": "code",
      "execution_count": null,
      "metadata": {
        "id": "sCSz8jQhxGDY"
      },
      "outputs": [],
      "source": [
        "NGROK_TOKEN = \"hello_hommy\"\n",
        "PASSWORD = \"hello_hommy\""
      ]
    },
    {
      "cell_type": "code",
      "source": [
        "# from google.colab import drive\n",
        "# drive.mount('/content/drive/')"
      ],
      "metadata": {
        "id": "nh31kjRhxW7V"
      },
      "execution_count": null,
      "outputs": []
    },
    {
      "cell_type": "code",
      "source": [
        "# Install colab_ssh on google colab\n",
        "!pip install colab_ssh --upgrade\n",
        "\n",
        "from colab_ssh import launch_ssh\n",
        "launch_ssh(NGROK_TOKEN, PASSWORD)"
      ],
      "metadata": {
        "id": "4t0LAP36xjle"
      },
      "execution_count": null,
      "outputs": []
    },
    {
      "cell_type": "markdown",
      "source": [
        "# 테스트 코드"
      ],
      "metadata": {
        "id": "NR2XvCIQ1LL7"
      }
    },
    {
      "cell_type": "code",
      "source": [
        "!git clone https://github.com/shhommychon/pytorch-practice.git"
      ],
      "metadata": {
        "id": "YwuV2VaA1QLa"
      },
      "execution_count": null,
      "outputs": []
    },
    {
      "cell_type": "code",
      "source": [
        ""
      ],
      "metadata": {
        "id": "3SWzVuF5gBJw"
      },
      "execution_count": null,
      "outputs": []
    }
  ]
}